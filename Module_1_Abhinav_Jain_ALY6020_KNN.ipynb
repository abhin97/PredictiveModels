{
 "cells": [
  {
   "cell_type": "code",
   "execution_count": 291,
   "id": "6be9a810",
   "metadata": {},
   "outputs": [],
   "source": [
    "import bamboolib as bam\n",
    "import pandas as pd\n",
    "import numpy as np\n",
    "from sklearn.metrics import confusion_matrix\n",
    "from sklearn.metrics import confusion_matrix\n",
    "import matplotlib.pyplot as plt\n",
    "from mpl_toolkits.mplot3d import Axes3D\n",
    "from sklearn.neighbors import KNeighborsClassifier\n",
    "from sklearn.model_selection import train_test_split\n",
    "from collections import Counter\n",
    "import seaborn as sns"
   ]
  },
  {
   "cell_type": "code",
   "execution_count": 172,
   "id": "11b8ffbb",
   "metadata": {},
   "outputs": [],
   "source": [
    "df = pd.read_csv(\"adult-all.csv\")"
   ]
  },
  {
   "cell_type": "code",
   "execution_count": 320,
   "id": "db791c8e",
   "metadata": {},
   "outputs": [
    {
     "data": {
      "application/vnd.jupyter.widget-view+json": {
       "model_id": "7b60658ee8a249e48409d101a0717906"
      },
      "text/plain": [
       "       Age         Workclass  Education  Education-Num      Marital-Status  \\\n",
       "0       39         State-gov  Bachelors             13       Never-married   \n",
       "1       50  Self-emp-not-inc  Bachelors             13  Married-civ-spouse   \n",
       "2       38           Private    HS-grad              9            Divorced   \n",
       "3       53           Private       11th              7  Married-civ-spouse   \n",
       "4       28           Private  Bachelors             13  Married-civ-spouse   \n",
       "...    ...               ...        ...            ...                 ...   \n",
       "48836   33           Private  Bachelors             13       Never-married   \n",
       "48837   39           Private  Bachelors             13            Divorced   \n",
       "48839   38           Private  Bachelors             13  Married-civ-spouse   \n",
       "48840   44           Private  Bachelors             13            Divorced   \n",
       "48841   35      Self-emp-inc  Bachelors             13  Married-civ-spouse   \n",
       "\n",
       "              Occupation   Relationship                Race     Sex  \\\n",
       "0           Adm-clerical  Not-in-family               White    Male   \n",
       "1        Exec-managerial        Husband               White    Male   \n",
       "2      Handlers-cleaners  Not-in-family               White    Male   \n",
       "3      Handlers-cleaners        Husband               Black    Male   \n",
       "4         Prof-specialty           Wife               Black  Female   \n",
       "...                  ...            ...                 ...     ...   \n",
       "48836     Prof-specialty      Own-child               White    Male   \n",
       "48837     Prof-specialty  Not-in-family               White  Female   \n",
       "48839     Prof-specialty        Husband               White    Male   \n",
       "48840       Adm-clerical      Own-child  Asian-Pac-Islander    Male   \n",
       "48841    Exec-managerial        Husband               White    Male   \n",
       "\n",
       "       CapitalGain  CapitalLoss  Hours-per-week  NativeCountry Salary  \\\n",
       "0             2174            0              40  United-States  <=50K   \n",
       "1                0            0              13  United-States  <=50K   \n",
       "2                0            0              40  United-States  <=50K   \n",
       "3                0            0              40  United-States  <=50K   \n",
       "4                0            0              40           Cuba  <=50K   \n",
       "...            ...          ...             ...            ...    ...   \n",
       "48836            0            0              40  United-States  <=50K   \n",
       "48837            0            0              36  United-States  <=50K   \n",
       "48839            0            0              50  United-States  <=50K   \n",
       "48840         5455            0              40  United-States  <=50K   \n",
       "48841            0            0              60  United-States   >50K   \n",
       "\n",
       "       w_hours  Hours  Edu  c_age  age  \n",
       "0          1.0    1.0  1.0    1.0  1.0  \n",
       "1          0.0    0.0  1.0    1.0  1.0  \n",
       "2          1.0    1.0  0.0    1.0  1.0  \n",
       "3          1.0    1.0  0.0    1.0  1.0  \n",
       "4          1.0    1.0  1.0    1.0  1.0  \n",
       "...        ...    ...  ...    ...  ...  \n",
       "48836      1.0    1.0  1.0    1.0  1.0  \n",
       "48837      0.0    0.0  1.0    1.0  1.0  \n",
       "48839      1.0    1.0  1.0    1.0  1.0  \n",
       "48840      1.0    1.0  1.0    1.0  1.0  \n",
       "48841      1.0    1.0  1.0    1.0  1.0  \n",
       "\n",
       "[45222 rows x 19 columns]"
      ]
     },
     "metadata": {},
     "output_type": "display_data"
    }
   ],
   "source": [
    "df"
   ]
  },
  {
   "cell_type": "code",
   "execution_count": 174,
   "id": "eb1cd718",
   "metadata": {},
   "outputs": [],
   "source": [
    "df.to_csv(\"adult-all.csv\", header=[\"Age\",\"Workclass\",\"fnlwgt\",\"Education\",\"Education-Num\",\"Marital-Status\",\"Occupation\",\"Relationship\",\"Race\",\"Sex\",\"CapitalGain\",\"CapitalLoss\",\"Hours-per-week\",\"NativeCountry\",\"Salary\"], index =False)"
   ]
  },
  {
   "cell_type": "code",
   "execution_count": 175,
   "id": "660084ef",
   "metadata": {},
   "outputs": [
    {
     "data": {
      "application/vnd.jupyter.widget-view+json": {
       "model_id": "1c54a6ca1d754eae9152d53c9a34b486"
      },
      "text/plain": [
       "       Age         Workclass  fnlwgt  Education  Education-Num  \\\n",
       "0       39         State-gov   77516  Bachelors             13   \n",
       "1       50  Self-emp-not-inc   83311  Bachelors             13   \n",
       "2       38           Private  215646    HS-grad              9   \n",
       "3       53           Private  234721       11th              7   \n",
       "4       28           Private  338409  Bachelors             13   \n",
       "...    ...               ...     ...        ...            ...   \n",
       "48837   39           Private  215419  Bachelors             13   \n",
       "48838   64                 ?  321403    HS-grad              9   \n",
       "48839   38           Private  374983  Bachelors             13   \n",
       "48840   44           Private   83891  Bachelors             13   \n",
       "48841   35      Self-emp-inc  182148  Bachelors             13   \n",
       "\n",
       "           Marital-Status         Occupation    Relationship  \\\n",
       "0           Never-married       Adm-clerical   Not-in-family   \n",
       "1      Married-civ-spouse    Exec-managerial         Husband   \n",
       "2                Divorced  Handlers-cleaners   Not-in-family   \n",
       "3      Married-civ-spouse  Handlers-cleaners         Husband   \n",
       "4      Married-civ-spouse     Prof-specialty            Wife   \n",
       "...                   ...                ...             ...   \n",
       "48837            Divorced     Prof-specialty   Not-in-family   \n",
       "48838             Widowed                  ?  Other-relative   \n",
       "48839  Married-civ-spouse     Prof-specialty         Husband   \n",
       "48840            Divorced       Adm-clerical       Own-child   \n",
       "48841  Married-civ-spouse    Exec-managerial         Husband   \n",
       "\n",
       "                     Race     Sex  CapitalGain  CapitalLoss  Hours-per-week  \\\n",
       "0                   White    Male         2174            0              40   \n",
       "1                   White    Male            0            0              13   \n",
       "2                   White    Male            0            0              40   \n",
       "3                   Black    Male            0            0              40   \n",
       "4                   Black  Female            0            0              40   \n",
       "...                   ...     ...          ...          ...             ...   \n",
       "48837               White  Female            0            0              36   \n",
       "48838               Black    Male            0            0              40   \n",
       "48839               White    Male            0            0              50   \n",
       "48840  Asian-Pac-Islander    Male         5455            0              40   \n",
       "48841               White    Male            0            0              60   \n",
       "\n",
       "       NativeCountry Salary  \n",
       "0      United-States  <=50K  \n",
       "1      United-States  <=50K  \n",
       "2      United-States  <=50K  \n",
       "3      United-States  <=50K  \n",
       "4               Cuba  <=50K  \n",
       "...              ...    ...  \n",
       "48837  United-States  <=50K  \n",
       "48838  United-States  <=50K  \n",
       "48839  United-States  <=50K  \n",
       "48840  United-States  <=50K  \n",
       "48841  United-States   >50K  \n",
       "\n",
       "[48842 rows x 15 columns]"
      ]
     },
     "metadata": {},
     "output_type": "display_data"
    }
   ],
   "source": [
    "df"
   ]
  },
  {
   "cell_type": "code",
   "execution_count": 176,
   "id": "daa0cd2c",
   "metadata": {},
   "outputs": [],
   "source": [
    "df= df.loc[:, ~df.columns.str.contains('^Unnamed')]"
   ]
  },
  {
   "cell_type": "code",
   "execution_count": 177,
   "id": "a1ebc939",
   "metadata": {},
   "outputs": [
    {
     "data": {
      "application/vnd.jupyter.widget-view+json": {
       "model_id": "d6f5af0964f74f51883a4887ebbd1073"
      },
      "text/plain": [
       "       Age         Workclass  fnlwgt  Education  Education-Num  \\\n",
       "0       39         State-gov   77516  Bachelors             13   \n",
       "1       50  Self-emp-not-inc   83311  Bachelors             13   \n",
       "2       38           Private  215646    HS-grad              9   \n",
       "3       53           Private  234721       11th              7   \n",
       "4       28           Private  338409  Bachelors             13   \n",
       "...    ...               ...     ...        ...            ...   \n",
       "48837   39           Private  215419  Bachelors             13   \n",
       "48838   64                 ?  321403    HS-grad              9   \n",
       "48839   38           Private  374983  Bachelors             13   \n",
       "48840   44           Private   83891  Bachelors             13   \n",
       "48841   35      Self-emp-inc  182148  Bachelors             13   \n",
       "\n",
       "           Marital-Status         Occupation    Relationship  \\\n",
       "0           Never-married       Adm-clerical   Not-in-family   \n",
       "1      Married-civ-spouse    Exec-managerial         Husband   \n",
       "2                Divorced  Handlers-cleaners   Not-in-family   \n",
       "3      Married-civ-spouse  Handlers-cleaners         Husband   \n",
       "4      Married-civ-spouse     Prof-specialty            Wife   \n",
       "...                   ...                ...             ...   \n",
       "48837            Divorced     Prof-specialty   Not-in-family   \n",
       "48838             Widowed                  ?  Other-relative   \n",
       "48839  Married-civ-spouse     Prof-specialty         Husband   \n",
       "48840            Divorced       Adm-clerical       Own-child   \n",
       "48841  Married-civ-spouse    Exec-managerial         Husband   \n",
       "\n",
       "                     Race     Sex  CapitalGain  CapitalLoss  Hours-per-week  \\\n",
       "0                   White    Male         2174            0              40   \n",
       "1                   White    Male            0            0              13   \n",
       "2                   White    Male            0            0              40   \n",
       "3                   Black    Male            0            0              40   \n",
       "4                   Black  Female            0            0              40   \n",
       "...                   ...     ...          ...          ...             ...   \n",
       "48837               White  Female            0            0              36   \n",
       "48838               Black    Male            0            0              40   \n",
       "48839               White    Male            0            0              50   \n",
       "48840  Asian-Pac-Islander    Male         5455            0              40   \n",
       "48841               White    Male            0            0              60   \n",
       "\n",
       "       NativeCountry Salary  \n",
       "0      United-States  <=50K  \n",
       "1      United-States  <=50K  \n",
       "2      United-States  <=50K  \n",
       "3      United-States  <=50K  \n",
       "4               Cuba  <=50K  \n",
       "...              ...    ...  \n",
       "48837  United-States  <=50K  \n",
       "48838  United-States  <=50K  \n",
       "48839  United-States  <=50K  \n",
       "48840  United-States  <=50K  \n",
       "48841  United-States   >50K  \n",
       "\n",
       "[48842 rows x 15 columns]"
      ]
     },
     "metadata": {},
     "output_type": "display_data"
    }
   ],
   "source": [
    "df"
   ]
  },
  {
   "cell_type": "code",
   "execution_count": 178,
   "id": "e362ca37",
   "metadata": {},
   "outputs": [
    {
     "data": {
      "application/vnd.jupyter.widget-view+json": {
       "model_id": "2005acfdf3a84b6fa8a36c0d8af1aa8c"
      },
      "text/plain": [
       "                Age        fnlwgt  Education-Num   CapitalGain   CapitalLoss  \\\n",
       "count  48842.000000  4.884200e+04   48842.000000  48842.000000  48842.000000   \n",
       "mean      38.643585  1.896641e+05      10.078089   1079.067626     87.502314   \n",
       "std       13.710510  1.056040e+05       2.570973   7452.019058    403.004552   \n",
       "min       17.000000  1.228500e+04       1.000000      0.000000      0.000000   \n",
       "25%       28.000000  1.175505e+05       9.000000      0.000000      0.000000   \n",
       "50%       37.000000  1.781445e+05      10.000000      0.000000      0.000000   \n",
       "75%       48.000000  2.376420e+05      12.000000      0.000000      0.000000   \n",
       "max       90.000000  1.490400e+06      16.000000  99999.000000   4356.000000   \n",
       "\n",
       "       Hours-per-week  \n",
       "count    48842.000000  \n",
       "mean        40.422382  \n",
       "std         12.391444  \n",
       "min          1.000000  \n",
       "25%         40.000000  \n",
       "50%         40.000000  \n",
       "75%         45.000000  \n",
       "max         99.000000  "
      ]
     },
     "metadata": {},
     "output_type": "display_data"
    }
   ],
   "source": [
    "df.describe()"
   ]
  },
  {
   "cell_type": "code",
   "execution_count": 179,
   "id": "d590bb40",
   "metadata": {},
   "outputs": [
    {
     "name": "stdout",
     "output_type": "stream",
     "text": [
      "<class 'pandas.core.frame.DataFrame'>\n",
      "RangeIndex: 48842 entries, 0 to 48841\n",
      "Data columns (total 15 columns):\n",
      " #   Column          Non-Null Count  Dtype \n",
      "---  ------          --------------  ----- \n",
      " 0   Age             48842 non-null  int64 \n",
      " 1   Workclass       48842 non-null  object\n",
      " 2   fnlwgt          48842 non-null  int64 \n",
      " 3   Education       48842 non-null  object\n",
      " 4   Education-Num   48842 non-null  int64 \n",
      " 5   Marital-Status  48842 non-null  object\n",
      " 6   Occupation      48842 non-null  object\n",
      " 7   Relationship    48842 non-null  object\n",
      " 8   Race            48842 non-null  object\n",
      " 9   Sex             48842 non-null  object\n",
      " 10  CapitalGain     48842 non-null  int64 \n",
      " 11  CapitalLoss     48842 non-null  int64 \n",
      " 12  Hours-per-week  48842 non-null  int64 \n",
      " 13  NativeCountry   48842 non-null  object\n",
      " 14  Salary          48842 non-null  object\n",
      "dtypes: int64(6), object(9)\n",
      "memory usage: 5.6+ MB\n"
     ]
    }
   ],
   "source": [
    "df.info()"
   ]
  },
  {
   "cell_type": "code",
   "execution_count": 180,
   "id": "d88a527a",
   "metadata": {},
   "outputs": [
    {
     "data": {
      "text/plain": [
       "Age                  74\n",
       "Workclass             9\n",
       "fnlwgt            28523\n",
       "Education            16\n",
       "Education-Num        16\n",
       "Marital-Status        7\n",
       "Occupation           15\n",
       "Relationship          6\n",
       "Race                  5\n",
       "Sex                   2\n",
       "CapitalGain         123\n",
       "CapitalLoss          99\n",
       "Hours-per-week       96\n",
       "NativeCountry        42\n",
       "Salary                2\n",
       "dtype: int64"
      ]
     },
     "execution_count": 180,
     "metadata": {},
     "output_type": "execute_result"
    }
   ],
   "source": [
    "df.nunique()"
   ]
  },
  {
   "cell_type": "code",
   "execution_count": 181,
   "id": "2c981887",
   "metadata": {},
   "outputs": [],
   "source": [
    "m_v = [\"n/a\", \"na\", \"missing\"]\n",
    "df = pd.read_csv(\"adult-all.csv\", na_values = m_v)"
   ]
  },
  {
   "cell_type": "code",
   "execution_count": 182,
   "id": "32acc551",
   "metadata": {},
   "outputs": [
    {
     "data": {
      "text/plain": [
       "Age               0\n",
       "Workclass         0\n",
       "fnlwgt            0\n",
       "Education         0\n",
       "Education-Num     0\n",
       "Marital-Status    0\n",
       "Occupation        0\n",
       "Relationship      0\n",
       "Race              0\n",
       "Sex               0\n",
       "CapitalGain       0\n",
       "CapitalLoss       0\n",
       "Hours-per-week    0\n",
       "NativeCountry     0\n",
       "Salary            0\n",
       "dtype: int64"
      ]
     },
     "execution_count": 182,
     "metadata": {},
     "output_type": "execute_result"
    }
   ],
   "source": [
    "m_data = df.isnull().sum()\n",
    "m_data"
   ]
  },
  {
   "cell_type": "code",
   "execution_count": 183,
   "id": "94ac41f0",
   "metadata": {},
   "outputs": [
    {
     "data": {
      "text/plain": [
       "Age                  0\n",
       "Workclass         2799\n",
       "fnlwgt               0\n",
       "Education            0\n",
       "Education-Num        0\n",
       "Marital-Status       0\n",
       "Occupation        2809\n",
       "Relationship         0\n",
       "Race                 0\n",
       "Sex                  0\n",
       "CapitalGain          0\n",
       "CapitalLoss          0\n",
       "Hours-per-week       0\n",
       "NativeCountry      857\n",
       "Salary               0\n",
       "dtype: int64"
      ]
     },
     "execution_count": 183,
     "metadata": {},
     "output_type": "execute_result"
    }
   ],
   "source": [
    "df[df=='?'].count()"
   ]
  },
  {
   "cell_type": "code",
   "execution_count": 184,
   "id": "02def3ab",
   "metadata": {},
   "outputs": [],
   "source": [
    "df= pd.DataFrame(df)\n",
    "df = df[(df.Workclass != \"?\")&(df.Occupation != \"?\")&(df.NativeCountry != \"?\")]"
   ]
  },
  {
   "cell_type": "code",
   "execution_count": 185,
   "id": "88d2641a",
   "metadata": {},
   "outputs": [
    {
     "data": {
      "application/vnd.jupyter.widget-view+json": {
       "model_id": "7d13643e7f044b42b55656f041ae79bc"
      },
      "text/plain": [
       "       Age         Workclass  fnlwgt  Education  Education-Num  \\\n",
       "0       39         State-gov   77516  Bachelors             13   \n",
       "1       50  Self-emp-not-inc   83311  Bachelors             13   \n",
       "2       38           Private  215646    HS-grad              9   \n",
       "3       53           Private  234721       11th              7   \n",
       "4       28           Private  338409  Bachelors             13   \n",
       "...    ...               ...     ...        ...            ...   \n",
       "48836   33           Private  245211  Bachelors             13   \n",
       "48837   39           Private  215419  Bachelors             13   \n",
       "48839   38           Private  374983  Bachelors             13   \n",
       "48840   44           Private   83891  Bachelors             13   \n",
       "48841   35      Self-emp-inc  182148  Bachelors             13   \n",
       "\n",
       "           Marital-Status         Occupation   Relationship  \\\n",
       "0           Never-married       Adm-clerical  Not-in-family   \n",
       "1      Married-civ-spouse    Exec-managerial        Husband   \n",
       "2                Divorced  Handlers-cleaners  Not-in-family   \n",
       "3      Married-civ-spouse  Handlers-cleaners        Husband   \n",
       "4      Married-civ-spouse     Prof-specialty           Wife   \n",
       "...                   ...                ...            ...   \n",
       "48836       Never-married     Prof-specialty      Own-child   \n",
       "48837            Divorced     Prof-specialty  Not-in-family   \n",
       "48839  Married-civ-spouse     Prof-specialty        Husband   \n",
       "48840            Divorced       Adm-clerical      Own-child   \n",
       "48841  Married-civ-spouse    Exec-managerial        Husband   \n",
       "\n",
       "                     Race     Sex  CapitalGain  CapitalLoss  Hours-per-week  \\\n",
       "0                   White    Male         2174            0              40   \n",
       "1                   White    Male            0            0              13   \n",
       "2                   White    Male            0            0              40   \n",
       "3                   Black    Male            0            0              40   \n",
       "4                   Black  Female            0            0              40   \n",
       "...                   ...     ...          ...          ...             ...   \n",
       "48836               White    Male            0            0              40   \n",
       "48837               White  Female            0            0              36   \n",
       "48839               White    Male            0            0              50   \n",
       "48840  Asian-Pac-Islander    Male         5455            0              40   \n",
       "48841               White    Male            0            0              60   \n",
       "\n",
       "       NativeCountry Salary  \n",
       "0      United-States  <=50K  \n",
       "1      United-States  <=50K  \n",
       "2      United-States  <=50K  \n",
       "3      United-States  <=50K  \n",
       "4               Cuba  <=50K  \n",
       "...              ...    ...  \n",
       "48836  United-States  <=50K  \n",
       "48837  United-States  <=50K  \n",
       "48839  United-States  <=50K  \n",
       "48840  United-States  <=50K  \n",
       "48841  United-States   >50K  \n",
       "\n",
       "[45222 rows x 15 columns]"
      ]
     },
     "metadata": {},
     "output_type": "display_data"
    }
   ],
   "source": [
    "df"
   ]
  },
  {
   "cell_type": "code",
   "execution_count": 186,
   "id": "cde7416d",
   "metadata": {},
   "outputs": [
    {
     "data": {
      "application/vnd.jupyter.widget-view+json": {
       "model_id": "af781142d6e04648b59524e2ce73dc70"
      },
      "text/plain": [
       "                Age        fnlwgt  Education-Num   CapitalGain   CapitalLoss  \\\n",
       "count  45222.000000  4.522200e+04   45222.000000  45222.000000  45222.000000   \n",
       "mean      38.547941  1.897347e+05      10.118460   1101.430344     88.595418   \n",
       "std       13.217870  1.056392e+05       2.552881   7506.430084    404.956092   \n",
       "min       17.000000  1.349200e+04       1.000000      0.000000      0.000000   \n",
       "25%       28.000000  1.173882e+05       9.000000      0.000000      0.000000   \n",
       "50%       37.000000  1.783160e+05      10.000000      0.000000      0.000000   \n",
       "75%       47.000000  2.379260e+05      13.000000      0.000000      0.000000   \n",
       "max       90.000000  1.490400e+06      16.000000  99999.000000   4356.000000   \n",
       "\n",
       "       Hours-per-week  \n",
       "count    45222.000000  \n",
       "mean        40.938017  \n",
       "std         12.007508  \n",
       "min          1.000000  \n",
       "25%         40.000000  \n",
       "50%         40.000000  \n",
       "75%         45.000000  \n",
       "max         99.000000  "
      ]
     },
     "metadata": {},
     "output_type": "display_data"
    }
   ],
   "source": [
    "df.describe()"
   ]
  },
  {
   "cell_type": "code",
   "execution_count": 187,
   "id": "344de60c",
   "metadata": {},
   "outputs": [
    {
     "data": {
      "application/vnd.jupyter.widget-view+json": {
       "model_id": "d3967454250548b686b8efc2322a725e"
      },
      "text/plain": [
       "                     Age    fnlwgt  Education-Num  CapitalGain  CapitalLoss  \\\n",
       "Age             1.000000 -0.075792       0.037623     0.079683     0.059351   \n",
       "fnlwgt         -0.075792  1.000000      -0.041993    -0.004110    -0.004349   \n",
       "Education-Num   0.037623 -0.041993       1.000000     0.126907     0.081711   \n",
       "CapitalGain     0.079683 -0.004110       0.126907     1.000000    -0.032102   \n",
       "CapitalLoss     0.059351 -0.004349       0.081711    -0.032102     1.000000   \n",
       "Hours-per-week  0.101992 -0.018679       0.146206     0.083880     0.054195   \n",
       "\n",
       "                Hours-per-week  \n",
       "Age                   0.101992  \n",
       "fnlwgt               -0.018679  \n",
       "Education-Num         0.146206  \n",
       "CapitalGain           0.083880  \n",
       "CapitalLoss           0.054195  \n",
       "Hours-per-week        1.000000  "
      ]
     },
     "metadata": {},
     "output_type": "display_data"
    }
   ],
   "source": [
    "df.corr()"
   ]
  },
  {
   "cell_type": "code",
   "execution_count": 188,
   "id": "3a81ea37",
   "metadata": {},
   "outputs": [
    {
     "data": {
      "text/plain": [
       "<=50K    34014\n",
       ">50K     11208\n",
       "Name: Salary, dtype: int64"
      ]
     },
     "execution_count": 188,
     "metadata": {},
     "output_type": "execute_result"
    }
   ],
   "source": [
    "df[\"Salary\"].value_counts()"
   ]
  },
  {
   "cell_type": "code",
   "execution_count": 189,
   "id": "5a045e0e",
   "metadata": {},
   "outputs": [
    {
     "data": {
      "text/plain": [
       "40    21358\n",
       "50     4094\n",
       "45     2602\n",
       "60     2085\n",
       "35     1776\n",
       "      ...  \n",
       "87        1\n",
       "94        1\n",
       "82        1\n",
       "79        1\n",
       "69        1\n",
       "Name: Hours-per-week, Length: 96, dtype: int64"
      ]
     },
     "execution_count": 189,
     "metadata": {},
     "output_type": "execute_result"
    }
   ],
   "source": [
    "df[\"Hours-per-week\"].value_counts()"
   ]
  },
  {
   "cell_type": "code",
   "execution_count": 190,
   "id": "8d5bb23d",
   "metadata": {},
   "outputs": [
    {
     "data": {
      "image/png": "[encoded data removed]",
      "text/plain": [
       "<Figure size 432x288 with 2 Axes>"
      ]
     },
     "metadata": {
      "needs_background": "light"
     },
     "output_type": "display_data"
    }
   ],
   "source": [
    "sns.heatmap(data= df.corr(), annot=True, linewidth = 1, cmap = \"flare\")\n",
    "plt.title(\"Correlation Matrix\")\n",
    "plt.show()"
   ]
  },
  {
   "cell_type": "code",
   "execution_count": 191,
   "id": "b1f50a57",
   "metadata": {},
   "outputs": [],
   "source": [
    "df=df.drop(\"fnlwgt\", axis =1)"
   ]
  },
  {
   "cell_type": "code",
   "execution_count": 192,
   "id": "6f75b2d5",
   "metadata": {},
   "outputs": [
    {
     "data": {
      "application/vnd.jupyter.widget-view+json": {
       "model_id": "64a03745544d4287b52fedbb5e6e68b8"
      },
      "text/plain": [
       "                     Age  Education-Num  CapitalGain  CapitalLoss  \\\n",
       "Age             1.000000       0.037623     0.079683     0.059351   \n",
       "Education-Num   0.037623       1.000000     0.126907     0.081711   \n",
       "CapitalGain     0.079683       0.126907     1.000000    -0.032102   \n",
       "CapitalLoss     0.059351       0.081711    -0.032102     1.000000   \n",
       "Hours-per-week  0.101992       0.146206     0.083880     0.054195   \n",
       "\n",
       "                Hours-per-week  \n",
       "Age                   0.101992  \n",
       "Education-Num         0.146206  \n",
       "CapitalGain           0.083880  \n",
       "CapitalLoss           0.054195  \n",
       "Hours-per-week        1.000000  "
      ]
     },
     "metadata": {},
     "output_type": "display_data"
    }
   ],
   "source": [
    "df.corr()"
   ]
  },
  {
   "cell_type": "code",
   "execution_count": 193,
   "id": "d1cda159",
   "metadata": {
    "scrolled": true
   },
   "outputs": [
    {
     "data": {
      "image/png": "[encoded data removed]",
      "text/plain": [
       "<Figure size 432x288 with 2 Axes>"
      ]
     },
     "metadata": {
      "needs_background": "light"
     },
     "output_type": "display_data"
    }
   ],
   "source": [
    "sns.heatmap(data= df.corr(), annot=True, linewidth = 1, cmap = \"flare\")\n",
    "plt.title(\"Correlation Matrix\")\n",
    "plt.show()"
   ]
  },
  {
   "cell_type": "code",
   "execution_count": 194,
   "id": "45cf04ba",
   "metadata": {
    "scrolled": true
   },
   "outputs": [
    {
     "data": {
      "text/plain": [
       "Male      30527\n",
       "Female    14695\n",
       "Name: Sex, dtype: int64"
      ]
     },
     "execution_count": 194,
     "metadata": {},
     "output_type": "execute_result"
    }
   ],
   "source": [
    "df[\"Sex\"].value_counts()"
   ]
  },
  {
   "cell_type": "code",
   "execution_count": 195,
   "id": "f6abcb65",
   "metadata": {},
   "outputs": [
    {
     "data": {
      "text/plain": [
       "White                 38903\n",
       "Black                  4228\n",
       "Asian-Pac-Islander     1303\n",
       "Amer-Indian-Eskimo      435\n",
       "Other                   353\n",
       "Name: Race, dtype: int64"
      ]
     },
     "execution_count": 195,
     "metadata": {},
     "output_type": "execute_result"
    }
   ],
   "source": [
    "df[\"Race\"].value_counts()"
   ]
  },
  {
   "cell_type": "code",
   "execution_count": 221,
   "id": "7c0d7cc7",
   "metadata": {},
   "outputs": [
    {
     "data": {
      "text/plain": [
       "<=50K    34014\n",
       ">50K     11208\n",
       "Name: Salary, dtype: int64"
      ]
     },
     "execution_count": 221,
     "metadata": {},
     "output_type": "execute_result"
    }
   ],
   "source": [
    "df[\"Salary\"].value_counts()"
   ]
  },
  {
   "cell_type": "code",
   "execution_count": 197,
   "id": "c5371cce",
   "metadata": {},
   "outputs": [
    {
     "data": {
      "text/plain": [
       "Craft-repair         6020\n",
       "Prof-specialty       6008\n",
       "Exec-managerial      5984\n",
       "Adm-clerical         5540\n",
       "Sales                5408\n",
       "Other-service        4808\n",
       "Machine-op-inspct    2970\n",
       "Transport-moving     2316\n",
       "Handlers-cleaners    2046\n",
       "Farming-fishing      1480\n",
       "Tech-support         1420\n",
       "Protective-serv       976\n",
       "Priv-house-serv       232\n",
       "Armed-Forces           14\n",
       "Name: Occupation, dtype: int64"
      ]
     },
     "execution_count": 197,
     "metadata": {},
     "output_type": "execute_result"
    }
   ],
   "source": [
    "df[\"Occupation\"].value_counts()"
   ]
  },
  {
   "cell_type": "code",
   "execution_count": 198,
   "id": "cabe7677",
   "metadata": {},
   "outputs": [
    {
     "data": {
      "text/plain": [
       "Married-civ-spouse       21055\n",
       "Never-married            14598\n",
       "Divorced                  6297\n",
       "Separated                 1411\n",
       "Widowed                   1277\n",
       "Married-spouse-absent      552\n",
       "Married-AF-spouse           32\n",
       "Name: Marital-Status, dtype: int64"
      ]
     },
     "execution_count": 198,
     "metadata": {},
     "output_type": "execute_result"
    }
   ],
   "source": [
    "df[\"Marital-Status\"].value_counts()"
   ]
  },
  {
   "cell_type": "code",
   "execution_count": 199,
   "id": "b1a895d6",
   "metadata": {},
   "outputs": [
    {
     "data": {
      "text/plain": [
       "HS-grad         14783\n",
       "Some-college     9899\n",
       "Bachelors        7570\n",
       "Masters          2514\n",
       "Assoc-voc        1959\n",
       "11th             1619\n",
       "Assoc-acdm       1507\n",
       "10th             1223\n",
       "7th-8th           823\n",
       "Prof-school       785\n",
       "9th               676\n",
       "12th              577\n",
       "Doctorate         544\n",
       "5th-6th           449\n",
       "1st-4th           222\n",
       "Preschool          72\n",
       "Name: Education, dtype: int64"
      ]
     },
     "execution_count": 199,
     "metadata": {},
     "output_type": "execute_result"
    }
   ],
   "source": [
    "df[\"Education\"].value_counts()"
   ]
  },
  {
   "cell_type": "code",
   "execution_count": 200,
   "id": "0f1f4bfe",
   "metadata": {},
   "outputs": [
    {
     "data": {
      "text/plain": [
       "United-States                 41292\n",
       "Mexico                          903\n",
       "Philippines                     283\n",
       "Germany                         193\n",
       "Puerto-Rico                     175\n",
       "Canada                          163\n",
       "El-Salvador                     147\n",
       "India                           147\n",
       "Cuba                            133\n",
       "England                         119\n",
       "China                           113\n",
       "Jamaica                         103\n",
       "South                           101\n",
       "Italy                           100\n",
       "Dominican-Republic               97\n",
       "Japan                            89\n",
       "Guatemala                        86\n",
       "Vietnam                          83\n",
       "Columbia                         82\n",
       "Poland                           81\n",
       "Haiti                            69\n",
       "Portugal                         62\n",
       "Iran                             56\n",
       "Taiwan                           55\n",
       "Greece                           49\n",
       "Nicaragua                        48\n",
       "Peru                             45\n",
       "Ecuador                          43\n",
       "Ireland                          36\n",
       "France                           36\n",
       "Thailand                         29\n",
       "Hong                             28\n",
       "Cambodia                         26\n",
       "Trinadad&Tobago                  26\n",
       "Yugoslavia                       23\n",
       "Outlying-US(Guam-USVI-etc)       22\n",
       "Laos                             21\n",
       "Scotland                         20\n",
       "Honduras                         19\n",
       "Hungary                          18\n",
       "Holand-Netherlands                1\n",
       "Name: NativeCountry, dtype: int64"
      ]
     },
     "execution_count": 200,
     "metadata": {},
     "output_type": "execute_result"
    }
   ],
   "source": [
    "df[\"NativeCountry\"].value_counts()"
   ]
  },
  {
   "cell_type": "code",
   "execution_count": 225,
   "id": "8eee3733",
   "metadata": {},
   "outputs": [
    {
     "data": {
      "image/png": "[encoded data removed]",
      "text/plain": [
       "<Figure size 432x288 with 1 Axes>"
      ]
     },
     "metadata": {
      "needs_background": "light"
     },
     "output_type": "display_data"
    },
    {
     "data": {
      "text/plain": [
       "<Figure size 1728x1728 with 0 Axes>"
      ]
     },
     "metadata": {},
     "output_type": "display_data"
    }
   ],
   "source": [
    "sns.countplot(x ='Sex', hue = \"Salary\", data = df, color = \"purple\")\n",
    "plt.title(\"Salary with Sex\")\n",
    "plt.figure(figsize=(24, 24))\n",
    "# Show the plot\n",
    "plt.show()"
   ]
  },
  {
   "cell_type": "code",
   "execution_count": 223,
   "id": "2472b3cb",
   "metadata": {},
   "outputs": [
    {
     "data": {
      "image/png": "[encoded data removed]",
      "text/plain": [
       "<Figure size 432x288 with 1 Axes>"
      ]
     },
     "metadata": {
      "needs_background": "light"
     },
     "output_type": "display_data"
    },
    {
     "data": {
      "text/plain": [
       "<Figure size 7488x1728 with 0 Axes>"
      ]
     },
     "metadata": {},
     "output_type": "display_data"
    }
   ],
   "source": [
    "sns.countplot(x ='Education', hue = \"Race\", data = df, color = \"green\")\n",
    "plt.title(\"Salary with Sex\")\n",
    "plt.figure(figsize=(104, 24))\n",
    "# plt.lim(\"White\", \"Black\", \"Asian-Pac-Islander\")\n",
    "# Show the plot\n",
    "plt.show()"
   ]
  },
  {
   "cell_type": "code",
   "execution_count": 233,
   "id": "47807542",
   "metadata": {},
   "outputs": [
    {
     "data": {
      "text/plain": [
       "Text(0.5, 1.0, 'Box Plot: Age with Salary')"
      ]
     },
     "execution_count": 233,
     "metadata": {},
     "output_type": "execute_result"
    },
    {
     "data": {
      "image/png": "[encoded data removed]",
      "text/plain": [
       "<Figure size 360x360 with 1 Axes>"
      ]
     },
     "metadata": {
      "needs_background": "light"
     },
     "output_type": "display_data"
    }
   ],
   "source": [
    "sns.catplot(data=df, x=\"Salary\", y=\"Age\", kind=\"box\")\n",
    "plt.title(\"Box Plot: Age with Salary\")"
   ]
  },
  {
   "cell_type": "code",
   "execution_count": 321,
   "id": "05bc0cdb",
   "metadata": {},
   "outputs": [
    {
     "data": {
      "text/plain": [
       "Text(0.5, 1.0, 'Box Plot: Weekly working Hours')"
      ]
     },
     "execution_count": 321,
     "metadata": {},
     "output_type": "execute_result"
    },
    {
     "data": {
      "image/png": "[encoded data removed]",
      "text/plain": [
       "<Figure size 432x288 with 1 Axes>"
      ]
     },
     "metadata": {
      "needs_background": "light"
     },
     "output_type": "display_data"
    }
   ],
   "source": [
    "sns.boxplot(data= df, x = 'Hours-per-week', color = \"darkorange\")\n",
    "plt.title(\"Box Plot: Weekly working Hours\")"
   ]
  },
  {
   "cell_type": "code",
   "execution_count": 322,
   "id": "605738b6",
   "metadata": {},
   "outputs": [
    {
     "data": {
      "text/plain": [
       "Text(0.5, 1.0, 'Box Plot: Age')"
      ]
     },
     "execution_count": 322,
     "metadata": {},
     "output_type": "execute_result"
    },
    {
     "data": {
      "image/png": "[encoded data removed]",
      "text/plain": [
       "<Figure size 432x288 with 1 Axes>"
      ]
     },
     "metadata": {
      "needs_background": "light"
     },
     "output_type": "display_data"
    }
   ],
   "source": [
    "sns.boxplot(data= df, x = 'Age', color = \"darkorange\")\n",
    "plt.title(\"Box Plot: Age\")"
   ]
  },
  {
   "cell_type": "code",
   "execution_count": 208,
   "id": "08ed8b47",
   "metadata": {
    "scrolled": true
   },
   "outputs": [],
   "source": [
    "df_s= pd.get_dummies(df['Salary'],drop_first= True)"
   ]
  },
  {
   "cell_type": "code",
   "execution_count": 209,
   "id": "fff18c4d",
   "metadata": {},
   "outputs": [
    {
     "data": {
      "application/vnd.jupyter.widget-view+json": {
       "model_id": "ab331d2f2d8544509d18d505bed8696d"
      },
      "text/plain": [
       "       >50K\n",
       "0         0\n",
       "1         0\n",
       "2         0\n",
       "3         0\n",
       "4         0\n",
       "...     ...\n",
       "48836     0\n",
       "48837     0\n",
       "48839     0\n",
       "48840     0\n",
       "48841     1\n",
       "\n",
       "[45222 rows x 1 columns]"
      ]
     },
     "metadata": {},
     "output_type": "display_data"
    }
   ],
   "source": [
    "df_s"
   ]
  },
  {
   "cell_type": "code",
   "execution_count": 210,
   "id": "106319b5",
   "metadata": {},
   "outputs": [],
   "source": [
    "df_g= pd.get_dummies(df[['Sex']],drop_first= True)"
   ]
  },
  {
   "cell_type": "code",
   "execution_count": 211,
   "id": "6b8c5e75",
   "metadata": {
    "scrolled": true
   },
   "outputs": [
    {
     "data": {
      "application/vnd.jupyter.widget-view+json": {
       "model_id": "fa4c191c21a443c697d93c6bcadb7829"
      },
      "text/plain": [
       "       Sex_Male\n",
       "0             1\n",
       "1             1\n",
       "2             1\n",
       "3             1\n",
       "4             0\n",
       "...         ...\n",
       "48836         1\n",
       "48837         0\n",
       "48839         1\n",
       "48840         1\n",
       "48841         1\n",
       "\n",
       "[45222 rows x 1 columns]"
      ]
     },
     "metadata": {},
     "output_type": "display_data"
    }
   ],
   "source": [
    "df_g"
   ]
  },
  {
   "cell_type": "code",
   "execution_count": 218,
   "id": "f7e483e6",
   "metadata": {},
   "outputs": [],
   "source": [
    "df.loc[df['Hours-per-week'] < 40, 'Hours'] = 0\n",
    "df.loc[df['Hours-per-week'] >= 40, 'Hours'] = 1\n",
    "df.loc[df['Education-Num'] < 10, 'Edu'] = 0 \n",
    "df.loc[df['Education-Num'] >= 10, 'Edu'] = 1\n",
    "df.loc[df['Age'] < 75, 'age'] = 1 \n",
    "df.loc[df['Age'] >= 75, 'age'] = 0"
   ]
  },
  {
   "cell_type": "code",
   "execution_count": 219,
   "id": "0949a7d1",
   "metadata": {},
   "outputs": [],
   "source": [
    "df_g['Hours'] =df['Hours']\n",
    "df_g['Edu']= df['Edu']\n",
    "df_g['age'] = df['age']"
   ]
  },
  {
   "cell_type": "code",
   "execution_count": 220,
   "id": "cba062ac",
   "metadata": {},
   "outputs": [
    {
     "data": {
      "text/plain": [
       "0        1.0\n",
       "1        0.0\n",
       "2        1.0\n",
       "3        1.0\n",
       "4        1.0\n",
       "        ... \n",
       "48836    1.0\n",
       "48837    0.0\n",
       "48839    1.0\n",
       "48840    1.0\n",
       "48841    1.0\n",
       "Name: Hours, Length: 45222, dtype: float64"
      ]
     },
     "execution_count": 220,
     "metadata": {},
     "output_type": "execute_result"
    }
   ],
   "source": [
    "df_g['Hours']"
   ]
  },
  {
   "cell_type": "code",
   "execution_count": 164,
   "id": "033fa86a",
   "metadata": {
    "scrolled": true
   },
   "outputs": [
    {
     "data": {
      "application/vnd.jupyter.widget-view+json": {
       "model_id": "04bdf070138043e085ad0bcbd6cf0a6b"
      },
      "text/plain": [
       "                    Workclass  NativeCountry  Occupation   Salary     Race\n",
       "<=50K                     NaN            NaN         NaN  34014.0      NaN\n",
       ">50K                      NaN            NaN         NaN  11208.0      NaN\n",
       "Adm-clerical              NaN            NaN      5540.0      NaN      NaN\n",
       "Amer-Indian-Eskimo        NaN            NaN         NaN      NaN    435.0\n",
       "Armed-Forces              NaN            NaN        14.0      NaN      NaN\n",
       "...                       ...            ...         ...      ...      ...\n",
       "United-States             NaN        41292.0         NaN      NaN      NaN\n",
       "Vietnam                   NaN           83.0         NaN      NaN      NaN\n",
       "White                     NaN            NaN         NaN      NaN  38903.0\n",
       "Without-pay              21.0            NaN         NaN      NaN      NaN\n",
       "Yugoslavia                NaN           23.0         NaN      NaN      NaN\n",
       "\n",
       "[69 rows x 5 columns]"
      ]
     },
     "metadata": {},
     "output_type": "display_data"
    }
   ],
   "source": [
    "df[['Workclass','NativeCountry','Occupation','Salary','Race']].apply(pd.Series.value_counts)"
   ]
  },
  {
   "cell_type": "code",
   "execution_count": 234,
   "id": "05a35f0d",
   "metadata": {},
   "outputs": [],
   "source": [
    "df_g=df_g.astype('int')"
   ]
  },
  {
   "cell_type": "code",
   "execution_count": 235,
   "id": "623a2cab",
   "metadata": {},
   "outputs": [
    {
     "data": {
      "application/vnd.jupyter.widget-view+json": {
       "model_id": "4d994925beab4a05b3ceb7783b1116b0"
      },
      "text/plain": [
       "       Sex_Male  Hours  Edu  age\n",
       "0             1      1    1    1\n",
       "1             1      0    1    1\n",
       "2             1      1    0    1\n",
       "3             1      1    0    1\n",
       "4             0      1    1    1\n",
       "...         ...    ...  ...  ...\n",
       "48836         1      1    1    1\n",
       "48837         0      0    1    1\n",
       "48839         1      1    1    1\n",
       "48840         1      1    1    1\n",
       "48841         1      1    1    1\n",
       "\n",
       "[45222 rows x 4 columns]"
      ]
     },
     "metadata": {},
     "output_type": "display_data"
    }
   ],
   "source": [
    "df_g"
   ]
  },
  {
   "cell_type": "code",
   "execution_count": 294,
   "id": "5dcf80d8",
   "metadata": {},
   "outputs": [],
   "source": [
    "X_train, X_test, y_train, y_test = train_test_split(df_s, df_g, test_size=0.2, random_state= 100)"
   ]
  },
  {
   "cell_type": "code",
   "execution_count": 295,
   "id": "9833c019",
   "metadata": {},
   "outputs": [
    {
     "name": "stdout",
     "output_type": "stream",
     "text": [
      "[1.]\n"
     ]
    }
   ],
   "source": [
    "from sklearn.ensemble import RandomForestRegressor\n",
    "rf = RandomForestRegressor(max_depth=10, n_estimators=50, random_state= 123)\n",
    "rf.fit(X_test, y_test)  \n",
    "print(rf.feature_importances_)\n",
    "importances = rf.feature_importances_\n",
    "indices = np.argsort(importances)"
   ]
  },
  {
   "cell_type": "code",
   "execution_count": 296,
   "id": "c9c6fff8",
   "metadata": {},
   "outputs": [
    {
     "data": {
      "image/png": "[encoded data removed]",
      "text/plain": [
       "<Figure size 432x288 with 1 Axes>"
      ]
     },
     "metadata": {
      "needs_background": "light"
     },
     "output_type": "display_data"
    }
   ],
   "source": [
    "features = y_train.columns\n",
    "plt.title('Feature Importances')\n",
    "plt.barh(range(len(indices)), importances[indices], color='purple', align='center')\n",
    "plt.yticks(range(len(indices)), [features[i] for i in indices])\n",
    "plt.xlabel('Relative Importance')\n",
    "plt.show()"
   ]
  },
  {
   "cell_type": "code",
   "execution_count": 297,
   "id": "aade19aa",
   "metadata": {},
   "outputs": [],
   "source": [
    "knn= KNeighborsClassifier(n_neighbors=212,weights='uniform')\n",
    "knn.fit(X_train, y_train)\n",
    "y_pred= knn.predict(X_test)\n",
    "# print(\"Accuracy:\",metrics.accuracy_score(y_test, y_pred))"
   ]
  },
  {
   "cell_type": "code",
   "execution_count": 298,
   "id": "b0e5babb",
   "metadata": {},
   "outputs": [
    {
     "data": {
      "text/plain": [
       "0.35964621337755664"
      ]
     },
     "execution_count": 298,
     "metadata": {},
     "output_type": "execute_result"
    }
   ],
   "source": [
    "knn_score = knn.score(X_test, y_test)\n",
    "knn_score"
   ]
  },
  {
   "cell_type": "code",
   "execution_count": 300,
   "id": "c385e659",
   "metadata": {},
   "outputs": [],
   "source": [
    "pred= knn.predict(X_test)"
   ]
  },
  {
   "cell_type": "code",
   "execution_count": 303,
   "id": "46db17d6",
   "metadata": {},
   "outputs": [
    {
     "data": {
      "text/plain": [
       "array([[0, 1, 0, 1],\n",
       "       [1, 1, 1, 1],\n",
       "       [0, 1, 0, 1],\n",
       "       ...,\n",
       "       [0, 1, 0, 1],\n",
       "       [0, 1, 0, 1],\n",
       "       [0, 1, 0, 1]])"
      ]
     },
     "execution_count": 303,
     "metadata": {},
     "output_type": "execute_result"
    }
   ],
   "source": [
    "pred"
   ]
  },
  {
   "cell_type": "code",
   "execution_count": 318,
   "id": "638d27d6",
   "metadata": {
    "scrolled": true
   },
   "outputs": [],
   "source": [
    "error_rate = []\n",
    "# Might take some time\n",
    "for i in range(25,50):\n",
    "    \n",
    "    knn = KNeighborsClassifier(n_neighbors=i, weights='uniform')\n",
    "    knn.fit(X_train,y_train)\n",
    "    pred_i = knn.predict(X_test)\n",
    "    error_rate.append(np.mean(pred_i != y_test))"
   ]
  },
  {
   "cell_type": "code",
   "execution_count": 319,
   "id": "7aaa40bb",
   "metadata": {},
   "outputs": [
    {
     "data": {
      "text/plain": [
       "Text(0, 0.5, 'Error Rate')"
      ]
     },
     "execution_count": 319,
     "metadata": {},
     "output_type": "execute_result"
    },
    {
     "data": {
      "image/png": "[encoded data removed]",
      "text/plain": [
       "<Figure size 720x432 with 1 Axes>"
      ]
     },
     "metadata": {
      "needs_background": "light"
     },
     "output_type": "display_data"
    }
   ],
   "source": [
    "plt.figure(figsize=(10,6))\n",
    "plt.plot(range(25,50),error_rate,color='blue', linestyle='dashed', marker='o',\n",
    "         markerfacecolor='red', markersize=15)\n",
    "plt.title('Error Rate vs. K Value')\n",
    "plt.xlabel('K')\n",
    "plt.ylabel('Error Rate')"
   ]
  },
  {
   "cell_type": "code",
   "execution_count": 309,
   "id": "dd1d687e",
   "metadata": {},
   "outputs": [],
   "source": [
    "knn = KNeighborsClassifier(n_neighbors=1)\n",
    "\n",
    "knn.fit(X_train,y_train)\n",
    "pred = knn.predict(X_test)\n",
    "\n",
    "print('WITH K=1')\n",
    "print('\\n')\n",
    "print(confusion_matrix(y_test,pred))\n",
    "print('\\n')\n",
    "print(classification_report(y_test,pred))"
   ]
  },
  {
   "cell_type": "code",
   "execution_count": 310,
   "id": "0b83b8b5",
   "metadata": {},
   "outputs": [
    {
     "data": {
      "text/plain": [
       "array([[0, 1, 0, 1],\n",
       "       [0, 1, 1, 1],\n",
       "       [0, 1, 0, 1],\n",
       "       ...,\n",
       "       [0, 1, 0, 1],\n",
       "       [0, 1, 0, 1],\n",
       "       [0, 1, 0, 1]])"
      ]
     },
     "execution_count": 310,
     "metadata": {},
     "output_type": "execute_result"
    }
   ],
   "source": [
    "pred"
   ]
  }
 ],
 "metadata": {
  "kernelspec": {
   "display_name": "Python 3 (ipykernel)",
   "language": "python",
   "name": "python3"
  },
  "language_info": {
   "codemirror_mode": {
    "name": "ipython",
    "version": 3
   },
   "file_extension": ".py",
   "mimetype": "text/x-python",
   "name": "python",
   "nbconvert_exporter": "python",
   "pygments_lexer": "ipython3",
   "version": "3.9.7"
  }
 },
 "nbformat": 4,
 "nbformat_minor": 5
}
